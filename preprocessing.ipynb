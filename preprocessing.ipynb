{
 "cells": [
  {
   "cell_type": "code",
   "execution_count": 1,
   "metadata": {},
   "outputs": [],
   "source": [
    "import pandas as pd"
   ]
  },
  {
   "cell_type": "code",
   "execution_count": 5,
   "metadata": {},
   "outputs": [],
   "source": [
    "codes = pd.read_csv(\"./data/London_District_codes.csv\")\n",
    "socio = pd.read_spss(\"./data/London_ward_data_socioeconomic.sav\")\n",
    "health = pd.read_sas(\"./data/london_ward_data_health.sas7bdat\",\n",
    "                     format='sas7bdat', encoding='latin1')\n",
    "\n",
    "health = health.drop('Population2011Census', axis=1)\n",
    "\n",
    "env = pd.read_csv(\"./data/London_ward_data_environment.csv\")\n",
    "demo = pd.read_csv(\"./data/London_ward_data_demographics.dat\", delimiter='\\t')"
   ]
  },
  {
   "cell_type": "code",
   "execution_count": 6,
   "metadata": {},
   "outputs": [],
   "source": [
    "socio['Districtcode'] = socio['Wardcode'].str[:-2]\n",
    "socio_env = pd.merge(socio, env, on='Wardcode')\n",
    "\n",
    "codes['Districtcode'] = codes['Districtcode']\\\n",
    "    .replace(r'\\s', '', regex=True)\n",
    "\n",
    "health[\n",
    "    ['District',\n",
    "     'Ward',\n",
    "     'remove',\n",
    "     'remove']\n",
    "] = health['Wardname'].str.split('-', expand=True)\n",
    "health['District'] = health['District'].str[:-1]\n",
    "health = health.drop(['Wardname', 'remove'], axis=1)\n",
    "total_df = pd.merge(socio_env, codes, on='Districtcode')\n",
    "total_df = pd.merge(total_df, health, on='District')\n",
    "\n",
    "demo[\n",
    "    ['District',\n",
    "        'Ward',\n",
    "        'remove',\n",
    "        'remove']\n",
    "] = demo['Wardname'].str.replace('&', 'and', regex=True)\\\n",
    "    .str.split('-', expand=True)\n",
    "\n",
    "# group to district level using mean values\n",
    "demo = demo.drop(['Wardname', 'remove'], axis=1)\n",
    "demo['District'] = demo['District'].str[:-1]\n",
    "\n",
    "total_df = pd.merge(total_df, demo, on=['District', 'Ward'])\n",
    "\n",
    "cols = total_df.columns.tolist()\n",
    "cols.insert(0, cols.pop(cols.index('Ward')))\n",
    "total_df = total_df.reindex(columns=cols)\n",
    "total_df.to_csv(\"./data/derived/combined_df.csv\")"
   ]
  },
  {
   "cell_type": "code",
   "execution_count": 7,
   "metadata": {},
   "outputs": [],
   "source": [
    "total_df.head()"
   ]
  },
  {
   "cell_type": "code",
   "execution_count": 8,
   "metadata": {},
   "outputs": [
    {
     "data": {
      "text/plain": [
       "(11791, 19)"
      ]
     },
     "execution_count": 8,
     "metadata": {},
     "output_type": "execute_result"
    }
   ],
   "source": [
    "total_df"
   ]
  }
 ],
 "metadata": {
  "kernelspec": {
   "display_name": "Python 3",
   "language": "python",
   "name": "python3"
  },
  "language_info": {
   "codemirror_mode": {
    "name": "ipython",
    "version": 3
   },
   "file_extension": ".py",
   "mimetype": "text/x-python",
   "name": "python",
   "nbconvert_exporter": "python",
   "pygments_lexer": "ipython3",
   "version": "3.7.4"
  }
 },
 "nbformat": 4,
 "nbformat_minor": 4
}
